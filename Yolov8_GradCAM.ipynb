{
  "cells": [
    {
      "cell_type": "code",
      "execution_count": null,
      "metadata": {
        "id": "wQpnzPYXM-71"
      },
      "outputs": [],
      "source": [
        "!pip install ultralytics\n",
        "from ultralytics import YOLO\n",
        "from google.colab import drive\n",
        "import os\n",
        "import numpy as np\n",
        "import yaml\n",
        "drive.mount('/content/drive')"
      ]
    },
    {
      "cell_type": "code",
      "execution_count": null,
      "metadata": {
        "id": "EXVv3YWUNn2w"
      },
      "outputs": [],
      "source": [
        "print(\"Current Wdir: \", os.getcwd());\n",
        "print(\"Query dir: \", os.listdir('../content/drive/MyDrive/Colab Notebooks/OsteoYOLO/datasets/GradCAM/train'));\n",
        "\n",
        "\n",
        "\n",
        "# Load a pretrained YOLO model (recommended for training)\n",
        "model = YOLO('yolov8s-cls.pt')\n",
        "\n",
        "# Train the model using the dataset for 3 epochs\n",
        "results = model.train(data='../content/drive/MyDrive/Colab Notebooks/OsteoYOLO/datasets/GradCAM', epochs=50)\n",
        "\n",
        "# Evaluate the model's performance on the validation set\n",
        "results = model.val()\n"
      ]
    },
    {
      "cell_type": "code",
      "execution_count": null,
      "metadata": {
        "colab": {
          "base_uri": "https://localhost:8080/"
        },
        "id": "i6BfPCdW4Bke",
        "outputId": "cce281e2-2513-4fb9-fc7d-314acf331811"
      },
      "outputs": [
        {
          "data": {
            "text/plain": [
              "8"
            ]
          },
          "execution_count": 153,
          "metadata": {},
          "output_type": "execute_result"
        }
      ],
      "source": [
        "import numpy as np\n",
        "path = '../content/drive/MyDrive/Colab Notebooks/OsteoYOLO/datasets/OsteoClassification/test/'\n",
        "fnames = os.listdir(path + 'Normal');\n",
        "\n",
        "for i in range(np.size(fnames)):\n",
        "  print(fnames[i])\n",
        "  model(path + 'Normal/' + fnames[i])\n",
        "\n",
        "fnames = os.listdir(path + 'Osteo');\n",
        "\n",
        "for i in range(np.size(fnames)):\n",
        "  print(fnames[i])\n",
        "  model(path + 'Osteo/' + fnames[i])"
      ]
    }
  ],
  "metadata": {
    "colab": {
      "provenance": []
    },
    "kernelspec": {
      "display_name": "Python 3",
      "name": "python3"
    },
    "language_info": {
      "name": "python"
    }
  },
  "nbformat": 4,
  "nbformat_minor": 0
}